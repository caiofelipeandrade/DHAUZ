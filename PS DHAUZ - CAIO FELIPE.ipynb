{
 "cells": [
  {
   "cell_type": "markdown",
   "id": "e85f9a86",
   "metadata": {},
   "source": [
    "__CAIO FELIPE DE B. ANDRADE__\n",
    "\n",
    "   - __Notebook:__ PS DHAUZ\n",
    "   - __Conteúdo:__ Modelo de classificação para cancelamento de reservas de hotéis"
   ]
  },
  {
   "cell_type": "markdown",
   "id": "da971a8e",
   "metadata": {},
   "source": [
    "Carregando os pacotes necessários e tirando a notação científica"
   ]
  },
  {
   "cell_type": "code",
   "execution_count": 108,
   "id": "9ddcc5bd",
   "metadata": {},
   "outputs": [
    {
     "name": "stderr",
     "output_type": "stream",
     "text": [
      "Warning message:\n",
      "\"package 'scorecard' was built under R version 4.0.5\"\n",
      "\n",
      "Attaching package: 'scorecard'\n",
      "\n",
      "\n",
      "The following object is masked from 'package:car':\n",
      "\n",
      "    vif\n",
      "\n",
      "\n"
     ]
    }
   ],
   "source": [
    "library(data.table)\n",
    "library(dplyr)\n",
    "library(expss)\n",
    "library(descr)\n",
    "library(arules)\n",
    "library(Information)\n",
    "library(InformationValue)\n",
    "library(car)\n",
    "library(caret)\n",
    "library(scorecard)\n",
    "\n",
    "options(scipen=999)"
   ]
  },
  {
   "cell_type": "markdown",
   "id": "7dbf1126",
   "metadata": {},
   "source": [
    "__Fazendo a leitura da base de dados__"
   ]
  },
  {
   "cell_type": "code",
   "execution_count": 53,
   "id": "b3d6df4b",
   "metadata": {},
   "outputs": [],
   "source": [
    "dados <- fread('C:\\\\Users\\\\Caio Felipe\\\\Documents\\\\Trabalhos e Consultorias\\\\DHAUZ\\\\cancellation_prediction.csv')\n",
    "#head(dados)"
   ]
  },
  {
   "cell_type": "markdown",
   "id": "e114609a",
   "metadata": {},
   "source": [
    "__1. Análise Exploratória Univariada__\n",
    "\n",
    "- Essa fase é importante para entender bem a base de dados e características das variáveis antes de seguir para qualquer tipo de análise mais robusta.\n",
    "- A análise de cada variável teve como objetivo verificar as distribuições, missings e identificar possibilidades de agrupamentos que serão utilizados na modelagem. Os agrupamentos serão confirmados na análise bivariada com a variável resposta!"
   ]
  },
  {
   "cell_type": "markdown",
   "id": "3d94bddf",
   "metadata": {},
   "source": [
    "____________________________________________________________________________________________________________________________\n",
    "- Deixei os códigos abaixo como comentário para que não apareçam todas as tabelas nos resultados. Mantive a exibição de duas tabelas apenas como exemplo."
   ]
  },
  {
   "cell_type": "code",
   "execution_count": 54,
   "id": "f9c7654d",
   "metadata": {},
   "outputs": [
    {
     "name": "stdout",
     "output_type": "stream",
     "text": [
      "[1] \"Visão da variável sobre vagas de estacionamento\"\n"
     ]
    },
    {
     "data": {
      "text/html": [
       "<table class='gmisc_table' style='border-collapse: collapse; margin-top: 1em; margin-bottom: 1em;' >\n",
       "<thead>\n",
       "<tr><th style='border-bottom: 1px solid grey; font-weight: 900; border-top: 2px solid grey; text-align: center;'></th>\n",
       "<th style='font-weight: 900; border-bottom: 1px solid grey; border-top: 2px solid grey; text-align: center;'></th>\n",
       "<th style='font-weight: 900; border-bottom: 1px solid grey; border-top: 2px solid grey; text-align: center;'>&nbsp;#Total&nbsp;</th>\n",
       "</tr>\n",
       "</thead>\n",
       "<tbody>\n",
       "<tr>\n",
       "<td style='text-align: left;'>&nbsp;dados&#36;required_car_parking_spaces&nbsp;</td>\n",
       "<td style='text-align: left;'>&nbsp;0&nbsp;</td>\n",
       "<td style='text-align: right;'>111974</td>\n",
       "</tr>\n",
       "<tr>\n",
       "<td style='text-align: left;'></td>\n",
       "<td style='text-align: left;'>&nbsp;1&nbsp;</td>\n",
       "<td style='text-align: right;'>7383</td>\n",
       "</tr>\n",
       "<tr>\n",
       "<td style='text-align: left;'></td>\n",
       "<td style='text-align: left;'>&nbsp;2&nbsp;</td>\n",
       "<td style='text-align: right;'>28</td>\n",
       "</tr>\n",
       "<tr>\n",
       "<td style='text-align: left;'></td>\n",
       "<td style='text-align: left;'>&nbsp;3&nbsp;</td>\n",
       "<td style='text-align: right;'>3</td>\n",
       "</tr>\n",
       "<tr>\n",
       "<td style='text-align: left;'></td>\n",
       "<td style='text-align: left;'>&nbsp;8&nbsp;</td>\n",
       "<td style='text-align: right;'>2</td>\n",
       "</tr>\n",
       "<tr>\n",
       "<td style='border-bottom: 2px solid grey; text-align: left;'></td>\n",
       "<td style='border-bottom: 2px solid grey; text-align: left;'>&nbsp;#Total cases&nbsp;</td>\n",
       "<td style='border-bottom: 2px solid grey; text-align: right;'>119390</td>\n",
       "</tr>\n",
       "</tbody>\n",
       "</table>"
      ],
      "text/latex": [
       "A etable: 6 × 2\n",
       "\\begin{tabular}{ll}\n",
       " row\\_labels & \\#Total\\\\\n",
       " <chr> & <dbl>\\\\\n",
       "\\hline\n",
       "\t dados\\$required\\_car\\_parking\\_spaces\\textbar{}0            & 111974\\\\\n",
       "\t dados\\$required\\_car\\_parking\\_spaces\\textbar{}1            &   7383\\\\\n",
       "\t dados\\$required\\_car\\_parking\\_spaces\\textbar{}2            &     28\\\\\n",
       "\t dados\\$required\\_car\\_parking\\_spaces\\textbar{}3            &      3\\\\\n",
       "\t dados\\$required\\_car\\_parking\\_spaces\\textbar{}8            &      2\\\\\n",
       "\t dados\\$required\\_car\\_parking\\_spaces\\textbar{}\\#Total cases & 119390\\\\\n",
       "\\end{tabular}\n"
      ],
      "text/markdown": [
       "\n",
       "A etable: 6 × 2\n",
       "\n",
       "| row_labels &lt;chr&gt; | #Total &lt;dbl&gt; |\n",
       "|---|---|\n",
       "| dados$required_car_parking_spaces|0            | 111974 |\n",
       "| dados$required_car_parking_spaces|1            |   7383 |\n",
       "| dados$required_car_parking_spaces|2            |     28 |\n",
       "| dados$required_car_parking_spaces|3            |      3 |\n",
       "| dados$required_car_parking_spaces|8            |      2 |\n",
       "| dados$required_car_parking_spaces|#Total cases | 119390 |\n",
       "\n"
      ],
      "text/plain": [
       "                                                              \n",
       " |                                   |              | #Total |\n",
       " | --------------------------------- | ------------ | ------ |\n",
       " | dados$required_car_parking_spaces |            0 | 111974 |\n",
       " |                                   |            1 |   7383 |\n",
       " |                                   |            2 |     28 |\n",
       " |                                   |            3 |      3 |\n",
       " |                                   |            8 |      2 |\n",
       " |                                   | #Total cases | 119390 |"
      ]
     },
     "metadata": {},
     "output_type": "display_data"
    },
    {
     "name": "stdout",
     "output_type": "stream",
     "text": [
      "[1] \"Visão da variável sobre requisições especiais\"\n"
     ]
    },
    {
     "data": {
      "text/html": [
       "<table class='gmisc_table' style='border-collapse: collapse; margin-top: 1em; margin-bottom: 1em;' >\n",
       "<thead>\n",
       "<tr><th style='border-bottom: 1px solid grey; font-weight: 900; border-top: 2px solid grey; text-align: center;'></th>\n",
       "<th style='font-weight: 900; border-bottom: 1px solid grey; border-top: 2px solid grey; text-align: center;'></th>\n",
       "<th style='font-weight: 900; border-bottom: 1px solid grey; border-top: 2px solid grey; text-align: center;'>&nbsp;#Total&nbsp;</th>\n",
       "</tr>\n",
       "</thead>\n",
       "<tbody>\n",
       "<tr>\n",
       "<td style='text-align: left;'>&nbsp;dados&#36;total_of_special_requests&nbsp;</td>\n",
       "<td style='text-align: left;'>&nbsp;0&nbsp;</td>\n",
       "<td style='text-align: right;'>70318</td>\n",
       "</tr>\n",
       "<tr>\n",
       "<td style='text-align: left;'></td>\n",
       "<td style='text-align: left;'>&nbsp;1&nbsp;</td>\n",
       "<td style='text-align: right;'>33226</td>\n",
       "</tr>\n",
       "<tr>\n",
       "<td style='text-align: left;'></td>\n",
       "<td style='text-align: left;'>&nbsp;2&nbsp;</td>\n",
       "<td style='text-align: right;'>12969</td>\n",
       "</tr>\n",
       "<tr>\n",
       "<td style='text-align: left;'></td>\n",
       "<td style='text-align: left;'>&nbsp;3&nbsp;</td>\n",
       "<td style='text-align: right;'>2497</td>\n",
       "</tr>\n",
       "<tr>\n",
       "<td style='text-align: left;'></td>\n",
       "<td style='text-align: left;'>&nbsp;4&nbsp;</td>\n",
       "<td style='text-align: right;'>340</td>\n",
       "</tr>\n",
       "<tr>\n",
       "<td style='text-align: left;'></td>\n",
       "<td style='text-align: left;'>&nbsp;5&nbsp;</td>\n",
       "<td style='text-align: right;'>40</td>\n",
       "</tr>\n",
       "<tr>\n",
       "<td style='border-bottom: 2px solid grey; text-align: left;'></td>\n",
       "<td style='border-bottom: 2px solid grey; text-align: left;'>&nbsp;#Total cases&nbsp;</td>\n",
       "<td style='border-bottom: 2px solid grey; text-align: right;'>119390</td>\n",
       "</tr>\n",
       "</tbody>\n",
       "</table>"
      ],
      "text/latex": [
       "A etable: 7 × 2\n",
       "\\begin{tabular}{ll}\n",
       " row\\_labels & \\#Total\\\\\n",
       " <chr> & <dbl>\\\\\n",
       "\\hline\n",
       "\t dados\\$total\\_of\\_special\\_requests\\textbar{}0            &  70318\\\\\n",
       "\t dados\\$total\\_of\\_special\\_requests\\textbar{}1            &  33226\\\\\n",
       "\t dados\\$total\\_of\\_special\\_requests\\textbar{}2            &  12969\\\\\n",
       "\t dados\\$total\\_of\\_special\\_requests\\textbar{}3            &   2497\\\\\n",
       "\t dados\\$total\\_of\\_special\\_requests\\textbar{}4            &    340\\\\\n",
       "\t dados\\$total\\_of\\_special\\_requests\\textbar{}5            &     40\\\\\n",
       "\t dados\\$total\\_of\\_special\\_requests\\textbar{}\\#Total cases & 119390\\\\\n",
       "\\end{tabular}\n"
      ],
      "text/markdown": [
       "\n",
       "A etable: 7 × 2\n",
       "\n",
       "| row_labels &lt;chr&gt; | #Total &lt;dbl&gt; |\n",
       "|---|---|\n",
       "| dados$total_of_special_requests|0            |  70318 |\n",
       "| dados$total_of_special_requests|1            |  33226 |\n",
       "| dados$total_of_special_requests|2            |  12969 |\n",
       "| dados$total_of_special_requests|3            |   2497 |\n",
       "| dados$total_of_special_requests|4            |    340 |\n",
       "| dados$total_of_special_requests|5            |     40 |\n",
       "| dados$total_of_special_requests|#Total cases | 119390 |\n",
       "\n"
      ],
      "text/plain": [
       "                                                            \n",
       " |                                 |              | #Total |\n",
       " | ------------------------------- | ------------ | ------ |\n",
       " | dados$total_of_special_requests |            0 |  70318 |\n",
       " |                                 |            1 |  33226 |\n",
       " |                                 |            2 |  12969 |\n",
       " |                                 |            3 |   2497 |\n",
       " |                                 |            4 |    340 |\n",
       " |                                 |            5 |     40 |\n",
       " |                                 | #Total cases | 119390 |"
      ]
     },
     "metadata": {},
     "output_type": "display_data"
    }
   ],
   "source": [
    "##### Análise das Variáveis Qualitativas\n",
    "\n",
    "#cro(dados$type)\n",
    "#cro(dados$year_arrival_date)\n",
    "#cro(dados$month_arrival_date)\n",
    "#cro(dados$week_number_arrival_date)\n",
    "#cro(dados$breakfast)\n",
    "#cro(dados$country)  \n",
    "#cro(dados$market_segment) \n",
    "#cro(dados$distribution_channel) \n",
    "#cro(dados$repeated_guest)\n",
    "#cro(dados$reserved_room) \n",
    "#cro(dados$deposit_policy)\n",
    "#cro(dados$id_travel_agency_booking)\n",
    "#cro(dados$id_person_booking)\n",
    "#cro(dados$customer_type)\n",
    "print('Visão da variável sobre vagas de estacionamento')\n",
    "cro(dados$required_car_parking_spaces) \n",
    "\n",
    "##### Análise das Variáveis Quantitativas\n",
    "\n",
    "print('Visão da variável sobre requisições especiais')\n",
    "cro(dados$total_of_special_requests)\n",
    "\n",
    "#Quantidade de dias da viagem\n",
    "#summary(dados$num_weekend_nights)\n",
    "#boxplot(dados$num_weekend_nights)\n",
    "#summary(dados$num_workweek_nights)\n",
    "#boxplot(dados$num_workweek_nights)\n",
    "##Verificando consistÊncia das maiores reservas\n",
    "#View(dados[dados$num_workweek_nights>25,])\n",
    "##O número de dias em fins de semana está ok em relação aos dias de semana\n",
    "\n",
    "##Antecedência da reserva\n",
    "#boxplot(dados$days_between_booking_arrival)\n",
    "\n",
    "##Analisando o número de hóspedes\n",
    "#summary(dados$num_adults)\n",
    "#table(dados$num_adults)\n",
    "#View(dados[dados$num_adults>4,])\n",
    "#summary(dados$num_babies)\n",
    "#summary(dados$num_children)\n",
    "\n",
    "##Cancelamentos e Estadias prévias\n",
    "#summary(dados$num_previous_cancellations)\n",
    "#cro(dados$num_previous_cancellations)\n",
    "\n",
    "#summary(dados$num_previous_stays)\n",
    "##table(dados$num_previous_stays)\n",
    "\n",
    "##Alterações\n",
    "#summary(dados$changes_between_booking_arrival)\n",
    "#table(dados$changes_between_booking_arrival)\n",
    "\n",
    "##Preço\n",
    "#summary(dados$avg_price)\n",
    "#boxplot(dados$avg_price) \n"
   ]
  },
  {
   "cell_type": "markdown",
   "id": "38b01b8d",
   "metadata": {},
   "source": [
    "__Insights iniciais:__\n",
    "   - Países: 428 valores faltantes(Verificar a forma de utilização);\n",
    "   - Segmentos: 6 e 7 com valores muito baixos (averiguar na bivariada a possibilidade de agrupamento);\n",
    "   - Canais: 3 e 4 com valores muito baixos (averiguar na bivariada a possibilidade de agrupamento);\n",
    "   - Quarto reservado: L e P com valores baixos (averiguar na bivariada a possibilidade de junção com outros ou se é melhor ignorar);\n",
    "   - Estacionamento: Utilizar em formato de variável dummy para os testes devido à volumetria;\n",
    "   - Requisições especiais: Categorizar. Verificar melhor quantidade de categorias (aparentemente duas ou três);\n",
    "   - Antecedência da reserva: Trabalhar em classes para evitar problemas com outliers;\n",
    "   - Cancelamentos, Estadias prévias e Alterações: Agrupar em dummys ou três categorias (verificar bivariada);\n",
    "   - Preço: Testar diferentes quantidade de categorias na análise bivariada dado que a variabiliade de preços é grande."
   ]
  },
  {
   "cell_type": "markdown",
   "id": "598df118",
   "metadata": {},
   "source": [
    "__Preparando a base de dados para o próximo passo (Análises Bivariadas)__\n",
    "   - Foram retiradas da base 170 observações de reservas que estão sem adultos ou crianças;\n",
    "   - 223 observações não têm adultos mas têm crianças. Como a representatividade é baixa, escolhi manter por talvez se tratar de autorizações especiais. De qualquer forma, seria um caso para melhor averiguação;\n",
    "   - Todas as reservas com 5 ou mais adultos (16) foram canceladas. Como a volumetria era baixa, fiz uma observação sobre tais dados e cheguei à conclusão de retirar da base 13 observações com 10 ou mais adultos. Possivelmente, tais reservas foram canceladas devido a algum erro;\n",
    "   - As 3 reservas com 5 ou 6 adultos, foram mantidas na base. As duas reservas com 5 adultos, que foram canceladas, parecem ser do mesmo cliente pelas características e valores das demais variáveis."
   ]
  },
  {
   "cell_type": "markdown",
   "id": "fa7bf70f",
   "metadata": {},
   "source": [
    "______________________________________________________________________________________________\n",
    "\n",
    "__2. Análises bivariadas e ajustes nas variáveis para modelagem__"
   ]
  },
  {
   "cell_type": "code",
   "execution_count": 55,
   "id": "35cd4d55",
   "metadata": {},
   "outputs": [],
   "source": [
    "dados <- filter(dados,num_children > 0 | (num_adults > 0 & num_adults < 10))\n",
    "dd <- dados"
   ]
  },
  {
   "cell_type": "markdown",
   "id": "f6674ba4",
   "metadata": {},
   "source": [
    "__Country:__ Os agrupamentos foram realizados a partir da volumetria de reservas dos países para evitar que tenhamos países com poucas observações.\n"
   ]
  },
  {
   "cell_type": "code",
   "execution_count": 56,
   "id": "974d85f8",
   "metadata": {},
   "outputs": [
    {
     "data": {
      "text/plain": [
       "   Conteúdo das células \n",
       "|-------------------------|\n",
       "|                       N | \n",
       "|      N / Total da linha | \n",
       "|-------------------------|\n",
       "\n",
       "====================================\n",
       "            dd$cancellation\n",
       "dd$pais          0        1    Total\n",
       "------------------------------------\n",
       "BRA           1392      830     2222\n",
       "             0.626    0.374    0.019\n",
       "------------------------------------\n",
       "CHN            537      462      999\n",
       "             0.538    0.462    0.008\n",
       "------------------------------------\n",
       "ITA           2428     1333     3761\n",
       "             0.646    0.354    0.032\n",
       "------------------------------------\n",
       "OUTROS       48865    13772    62637\n",
       "             0.780    0.220    0.525\n",
       "------------------------------------\n",
       "PRT          20977    27493    48470\n",
       "             0.433    0.567    0.407\n",
       "------------------------------------\n",
       "RUS            391      239      630\n",
       "             0.621    0.379    0.005\n",
       "------------------------------------\n",
       "SEM INFO       421       57      478\n",
       "             0.881    0.119    0.004\n",
       "------------------------------------\n",
       "Total        75011    44186   119197\n",
       "===================================="
      ]
     },
     "metadata": {},
     "output_type": "display_data"
    }
   ],
   "source": [
    "dd[dd$country=='',]$country <- 'SEM INFO'\n",
    "#Juntando países com quantidade baixa\n",
    "t1 <- table(dd$country) %>% as.data.frame\n",
    "t1 <- t1[t1$Freq<500 & t1$Var1!='SEM INFO',]\n",
    "paises <- t1$Var1 %>% as.character()\n",
    "dd[dd$country %in% paises,]$country <- 'OUTROS'\n",
    "rm(t1,paises)\n",
    "#cro_rpct(dd$country,dd$cancellation)\n",
    "\n",
    "paises <- c('BRA','CHN','ITA','PRT','RUS','SEM INFO')\n",
    "dd$pais <- dd$country\n",
    "dd[!dd$pais %in% paises,]$pais <- 'OUTROS'\n",
    "CrossTable(dd$pais,dd$cancellation,prop.t=FALSE,prop.c=FALSE,prop.chisq=FALSE)"
   ]
  },
  {
   "cell_type": "markdown",
   "id": "fdc1a8f5",
   "metadata": {},
   "source": [
    "__Market Segment:__ O agrupamento foi realizado com base na análise bivariada, juntando segmentos com características de cancelamento parecidas. No grupo 1, ficaram os segmentos 0,1,4 e 6; No grupo 2, os segmentos 2 e 3; No grupo 3, ficou o segmento 5."
   ]
  },
  {
   "cell_type": "code",
   "execution_count": 57,
   "id": "129b6558",
   "metadata": {},
   "outputs": [
    {
     "data": {
      "text/plain": [
       "   Conteúdo das células \n",
       "|-------------------------|\n",
       "|                       N | \n",
       "|      N / Total da linha | \n",
       "|-------------------------|\n",
       "\n",
       "====================================================\n",
       "                            dd$cancellation\n",
       "dd$segmento                      0        1    Total\n",
       "----------------------------------------------------\n",
       "1. Segmentos 0, 1, 4 e 6     15761     3060    18821\n",
       "                             0.837    0.163    0.158\n",
       "----------------------------------------------------\n",
       "2. Segmentos 2 e 3           51553    29032    80585\n",
       "                             0.640    0.360    0.676\n",
       "----------------------------------------------------\n",
       "3. Segmento 5                 7697    12094    19791\n",
       "                             0.389    0.611    0.166\n",
       "----------------------------------------------------\n",
       "Total                        75011    44186   119197\n",
       "===================================================="
      ]
     },
     "metadata": {},
     "output_type": "display_data"
    }
   ],
   "source": [
    "dd$segmento <- 0\n",
    "dd[dd$market_segment == 7,]$market_segment <- 6\n",
    "dd[dd$market_segment %in% c(0,1,4,6),]$segmento <- 1\n",
    "dd[dd$market_segment %in% c(2,3),]$segmento <- 2\n",
    "dd[dd$market_segment %in% c(5),]$segmento <- 3\n",
    "dd$segmento <- as.character(dd$segmento)\n",
    "dd[dd$segmento=='1',]$segmento <- '1. Segmentos 0, 1, 4 e 6'\n",
    "dd[dd$segmento=='2',]$segmento <- '2. Segmentos 2 e 3'\n",
    "dd[dd$segmento=='3',]$segmento <- '3. Segmento 5'\n",
    "\n",
    "CrossTable(dd$segmento,dd$cancellation,prop.t=FALSE,prop.c=FALSE,prop.chisq=FALSE)\n",
    "#cro(dd$segmento,dd$cancellation)"
   ]
  },
  {
   "cell_type": "markdown",
   "id": "eec1471c",
   "metadata": {},
   "source": [
    "__Para as demais variáveis, deixarei apenas um comentário indicando sobre o agrupamento realizado e os comandos para execução.\n",
    "A tabela resultante ficará oculta, com o código para execução deixado em forma de comentário.__\n",
    "\n",
    "__Destaco que todos os agrupamentos foram realizados com base na observação da tendência de cancelamento na análise bivariada e respeitando uma volumetria mínima que garanta a confiabilidade dos resultados mesmo após a separação da base em treino e teste!__"
   ]
  },
  {
   "cell_type": "markdown",
   "id": "be2ed664",
   "metadata": {},
   "source": [
    "__Distribuittion Channel:__ Os canais 0 e 1 foram mantidos como estavam e, na categoria 2, temos o agrupamento dos canais 2, 3 e 4."
   ]
  },
  {
   "cell_type": "code",
   "execution_count": 58,
   "id": "1df39383",
   "metadata": {},
   "outputs": [],
   "source": [
    "#cro(dd$distribution_channel,dd$cancellation)\n",
    "dd[dd$distribution_channel %in% c(3,4),]$distribution_channel <- 2\n",
    "dd$canal <- dd$distribution_channel\n",
    "#CrossTable(dd$canal,dd$cancellation,prop.t=FALSE,prop.c=FALSE,prop.chisq=FALSE)"
   ]
  },
  {
   "cell_type": "markdown",
   "id": "29afe3a7",
   "metadata": {},
   "source": [
    "__Reserved Room:__ Foram separadas duas categorias, uma com os quartos \"A ou H\" e outra com os demais."
   ]
  },
  {
   "cell_type": "code",
   "execution_count": 59,
   "id": "0be0890f",
   "metadata": {},
   "outputs": [],
   "source": [
    "dd$quarto <- 'OUTROS'\n",
    "#cro_rpct(dd$reserved_room,dd$cancellation)\n",
    "dd[dd$reserved_room %in% c('A','H'),]$quarto <- 'A ou H'\n",
    "#CrossTable(dd$quarto,dd$cancellation,prop.t=FALSE,prop.c=FALSE,prop.chisq=FALSE)"
   ]
  },
  {
   "cell_type": "markdown",
   "id": "b4044b0b",
   "metadata": {},
   "source": [
    "__Cars parking spaces:__ Foi utilizada como variável _dummy_, indicando se houve ou não solicitação. Devido à volumetria de solicitações, a variável não parece ser de grande confiança para utilização no modeolo."
   ]
  },
  {
   "cell_type": "code",
   "execution_count": 60,
   "id": "98b25961",
   "metadata": {},
   "outputs": [],
   "source": [
    "#cro(dados$required_car_parking_spaces)\n",
    "dd$estacionamento <- ifelse(dd$required_car_parking_spaces > 0,'SOLICITOU','NÃO SOLICITOU')\n",
    "#Crosstable(dd$estacionamento,dd$cancellation,prop.t=FALSE,prop.c=FALSE,prop.chisq=FALSE)"
   ]
  },
  {
   "cell_type": "markdown",
   "id": "c0448974",
   "metadata": {},
   "source": [
    "__Special Request:__ A variável foi dividida em 3 classes a partir da quantidade de solicitações, sendo 0, 1 ou 2 e 3 ou mais."
   ]
  },
  {
   "cell_type": "code",
   "execution_count": 61,
   "id": "2b3a50bb",
   "metadata": {},
   "outputs": [],
   "source": [
    "#cro_rpct(dd$total_of_special_requests,dd$cancellation) #Cortar em 2 ou mais ou 3 ou mais (avaliar bivariada)\n",
    "dd$solicitacoes <- '0'\n",
    "dd[dd$total_of_special_requests %in% 1:2,]$solicitacoes <- '1 OU 2'\n",
    "dd[dd$total_of_special_requests >=3 ,]$solicitacoes <- '3 OU MAIS'\n",
    "#CrossTable(dd$solicitacoes,dd$cancellation,prop.t=FALSE,prop.c=FALSE,prop.chisq=FALSE)\n"
   ]
  },
  {
   "cell_type": "markdown",
   "id": "18d7fe47",
   "metadata": {},
   "source": [
    "__Dias da viagem:__ Aqui foi feito um estudo relativo às variáveis de números de noite em dias úteis e fins de semana.\n",
    "Além disso, foi estudado o total de noites da viagem (após análise a classificação ficou em 1 dia ou mais de 1 dia), e foram construidas flags indicando se havia noites em dias úteis e em fins de semana. A princípio, dias úteis pareceu exercer alguma influência enquanto fim de semana não fazia tanta diferença."
   ]
  },
  {
   "cell_type": "code",
   "execution_count": 62,
   "id": "c843bf4d",
   "metadata": {},
   "outputs": [],
   "source": [
    "#cro_rpct(dd$num_workweek_nights,dd$cancellation)\n",
    "dd$semana <- '0'\n",
    "dd[dd$num_workweek_nights %in% 1:4,]$semana <- '1 A 4'\n",
    "dd[dd$num_workweek_nights >=5 ,]$semana <- '5 OU MAIS'\n",
    "#cro_rpct(dd$semana,dd$cancellation)\n",
    "\n",
    "#Total de dias e flag semana\n",
    "dd$dias <- dd$num_weekend_nights + dd$num_workweek_nights\n",
    "#cro_rpct(dd$dias,dd$cancellation)\n",
    "dd[dd$dias >= 2,]$dias <- 2\n",
    "dd[dd$dias <= 1,]$dias <- 1\n",
    "#cro_rpct(dd$dias,dd$cancellation)\n",
    "dd$dias <- as.character(dd$dias)\n",
    "dd[dd$dias=='1',]$dias <- 'ATÉ 1 DIA'\n",
    "dd[dd$dias=='2',]$dias <- 'MAIS DE 1 DIA'\n",
    "\n",
    "dd$flag_semana <- ifelse(dd$num_workweek_nights>0,1,0)\n",
    "#CrossTable(dd$flag_semana,dd$cancellation,prop.t=FALSE,prop.c=FALSE,prop.chisq=FALSE)\n",
    "\n",
    "dd$flag_fds <- ifelse(dd$num_weekend_nights>0,1,0)\n",
    "#CrossTable(dd$flag_fds,dd$cancellation,prop.t=FALSE,prop.c=FALSE,prop.chisq=FALSE)"
   ]
  },
  {
   "cell_type": "markdown",
   "id": "2e2daca4",
   "metadata": {},
   "source": [
    "__Days between Booking Arrival:__ Para esta variável foram criadas 5 categorias (Até 1 dia, De 2 a 8 dias, De 9 a 30 dias, De 31 a 60 dias e Mais de 60 dias) com base nos resultados da análise bivariada e respeitando volumetrias suficientes dentro das classes."
   ]
  },
  {
   "cell_type": "code",
   "execution_count": 63,
   "id": "cce19161",
   "metadata": {},
   "outputs": [],
   "source": [
    "#cro_rpct(dd$days_between_booking_arrival,dd$cancellation)\n",
    "dd$antecendencia <- 'ATÉ 01 DIA'\n",
    "dd[dd$days_between_booking_arrival %in% 2:8,]$antecendencia <- 'DE 02 A 08 DIAS'\n",
    "dd[dd$days_between_booking_arrival %in% 9:30,]$antecendencia <- 'DE 09 A 30 DIAS'\n",
    "dd[dd$days_between_booking_arrival %in% 31:60,]$antecendencia <- 'DE 31 A 60 DIAS'\n",
    "dd[dd$days_between_booking_arrival > 60,]$antecendencia <- 'MAIS DE 60 DIAS'\n",
    "#CrossTable(dd$antecendencia,dd$cancellation,prop.t=FALSE,prop.c=FALSE,prop.chisq=FALSE)\n"
   ]
  },
  {
   "cell_type": "markdown",
   "id": "661fad91",
   "metadata": {},
   "source": [
    "__Num Adults, childrens and babies:__ Após analisar a quantidade de hóspedes por categoria separadamente, foi visto que a influência era muito pouca em relação ao cancelamento. Com isso, foi feita uma análise agrupada da quantidade total de hóspedes. Por fim, a variável ficou classificada em \"1 Hóspede ou Mais de 1 Hóspede\"."
   ]
  },
  {
   "cell_type": "code",
   "execution_count": 64,
   "id": "6b715cfa",
   "metadata": {},
   "outputs": [],
   "source": [
    "dd$hospedes <- dd$num_adults + dd$num_children + dd$num_babies\n",
    "#cro(dd$hospedes,dd$cancellation)\n",
    "#cro_rpct(dd$hospedes,dd$cancellation)\n",
    "dd$hospedes <- ifelse(dd$num_adults + dd$num_children + dd$num_babies > 1,'MAIS DE 1 HÓSPEDE','1 HÓSPEDE')\n",
    "#CrossTable(dd$hospedes,dd$cancellation,prop.t=FALSE,prop.c=FALSE,prop.chisq=FALSE)\n"
   ]
  },
  {
   "cell_type": "markdown",
   "id": "312443d1",
   "metadata": {},
   "source": [
    "__Num previous cancellations, stays and changes:__ Cancelamentos prévios, estadias prévias e mudanças foram transformadas em variáveis _dummy,_ indicando se o fato aconteceu ou não. Para estadia prévia, ficou a indicação de verificar bem caso entre no modelo devido à baixa volumetria de clientes com essa característica."
   ]
  },
  {
   "cell_type": "code",
   "execution_count": 65,
   "id": "68334066",
   "metadata": {},
   "outputs": [],
   "source": [
    "dd$cancelamento_previo <- ifelse(dd$num_previous_cancellations > 0,1,0) %>% as.factor()\n",
    "#cro(dd$cancelamento_previo,dd$cancellation)\n",
    "#CrossTable(dd$cancelamento_previo,dd$cancellation)\n",
    "\n",
    "dd$estadia_previa <- ifelse(dd$num_previous_stays > 0,1,0) %>% as.factor()\n",
    "#cro(dd$estadia_previa,dd$cancellation)\n",
    "#CrossTable(dd$estadia_previa,dd$cancellation)\n",
    "\n",
    "dd$alteracoes <- ifelse(dd$changes > 0,1,0) %>% as.factor()\n",
    "#cro(dd$alteracoes,dd$cancellation)\n",
    "#CrossTable(dd$alteracoes,dd$cancellation)\n"
   ]
  },
  {
   "cell_type": "markdown",
   "id": "7c2f94b0",
   "metadata": {},
   "source": [
    "__Preço:__ Devido à grande variabilidade, o preço foi testado com várias quebras de categorias distintas mas, aparentemente, nenhuma quebra se mostra muito significativa em relação ao cancelamento."
   ]
  },
  {
   "cell_type": "code",
   "execution_count": 70,
   "id": "36ed8018",
   "metadata": {},
   "outputs": [],
   "source": [
    "dd$preco <- discretize(dd$avg_price,breaks = 4,method='frequency') #Aqui foram realizados os testes\n",
    "#cro(dd$preco,dd$cancellation)\n",
    "#CrossTable(dd$preco,dd$cancellation,prop.t=FALSE,prop.c=FALSE,prop.chisq=FALSE)"
   ]
  },
  {
   "cell_type": "markdown",
   "id": "f627646a",
   "metadata": {},
   "source": [
    "__Type e Breakfast__ já estavam com apenas duas categorias e foram mantidas para a fase de testes e modelagem."
   ]
  },
  {
   "cell_type": "markdown",
   "id": "31d204d3",
   "metadata": {},
   "source": [
    "__3. Fase de Modelagem__"
   ]
  },
  {
   "cell_type": "code",
   "execution_count": 125,
   "id": "2b30525c",
   "metadata": {},
   "outputs": [],
   "source": [
    "base <- dd[,c(1:2,13,29:44)]\n",
    "base$canal <- as.character(base$canal)"
   ]
  },
  {
   "cell_type": "markdown",
   "id": "d3513cc9",
   "metadata": {},
   "source": [
    "__Análise das variáveis x Cancelamento__\n",
    "\n",
    "   - Podemos perceber que o percentual de cancelamento cai conforme a quantidade de solicitações aumenta, indicando que essa variável tende a ser importante na construção do modelo.\n",
    "   - Já o café da manhã não parece ser uma variável que terá importância dentro do modelo, visto que a média de cancelamento é bem próxima para reservas com e sem café da manhã.\n",
    "   \n",
    "   Observe nos gráficos a seguir: "
   ]
  },
  {
   "cell_type": "code",
   "execution_count": 146,
   "id": "b4a97ba3",
   "metadata": {},
   "outputs": [
    {
     "data": {
      "image/png": "[encoded data removed]",
      "text/plain": [
       "plot without title"
      ]
     },
     "metadata": {
      "image/png": {
       "height": 420,
       "width": 420
      }
     },
     "output_type": "display_data"
    },
    {
     "data": {
      "image/png": "[encoded data removed]",
      "text/plain": [
       "plot without title"
      ]
     },
     "metadata": {
      "image/png": {
       "height": 420,
       "width": 420
      }
     },
     "output_type": "display_data"
    }
   ],
   "source": [
    "g1 <- ggplot(base, aes(x = solicitacoes, y = cancellation)) +\n",
    "        geom_bar(stat = \"summary\",\n",
    "                fun = mean,\n",
    "                position = \"dodge\",color='blue',fill='purple')+\n",
    "        labs(title=\"Solicitações x Cancelamentos\",\n",
    "             x = \"Quantidade de solicitações\",\n",
    "             y = \"Percentual de cancelamento\",\n",
    "                )+\n",
    "                theme(plot.title = element_text(hjust = 0.5))\n",
    "g1\n",
    "\n",
    "g2 <- ggplot(base, aes(x = breakfast, y = cancellation)) +\n",
    "        geom_bar(stat = \"summary\",\n",
    "                fun = mean,\n",
    "                position = \"dodge\",color='blue',fill='purple')+\n",
    "        labs(title=\"Café da manhça x Cancelamentos\",\n",
    "             x = \"Café da manhã\",\n",
    "             y = \"Percentual de cancelamento\",\n",
    "                )+\n",
    "                theme(plot.title = element_text(hjust = 0.5))\n",
    "g2"
   ]
  },
  {
   "cell_type": "markdown",
   "id": "0973a188",
   "metadata": {},
   "source": [
    "__Utilizando a métrica de InformationValue (IV). Objetivos:__\n",
    "\n",
    "- Definir as principais variáveis para desenvolvimento do modelo;\n",
    "\n",
    "- Verificar se o resultado apresentado bate com o esperado das análises bivariadas."
   ]
  },
  {
   "cell_type": "code",
   "execution_count": 90,
   "id": "a5e7a1af",
   "metadata": {},
   "outputs": [
    {
     "data": {
      "text/html": [
       "<table class=\"dataframe\">\n",
       "<caption>A data.frame: 18 × 2</caption>\n",
       "<thead>\n",
       "\t<tr><th></th><th scope=col>Variable</th><th scope=col>IV</th></tr>\n",
       "\t<tr><th></th><th scope=col>&lt;chr&gt;</th><th scope=col>&lt;dbl&gt;</th></tr>\n",
       "</thead>\n",
       "<tbody>\n",
       "\t<tr><th scope=row>3</th><td>pais               </td><td>0.5321907972</td></tr>\n",
       "\t<tr><th scope=row>13</th><td>antecendencia      </td><td>0.4867053450</td></tr>\n",
       "\t<tr><th scope=row>15</th><td>cancelamento_previo</td><td>0.3901534997</td></tr>\n",
       "\t<tr><th scope=row>4</th><td>segmento           </td><td>0.3255657872</td></tr>\n",
       "\t<tr><th scope=row>8</th><td>solicitacoes       </td><td>0.3232654928</td></tr>\n",
       "\t<tr><th scope=row>17</th><td>alteracoes         </td><td>0.1804156293</td></tr>\n",
       "\t<tr><th scope=row>5</th><td>canal              </td><td>0.1550866591</td></tr>\n",
       "\t<tr><th scope=row>16</th><td>estadia_previa     </td><td>0.0962813230</td></tr>\n",
       "\t<tr><th scope=row>1</th><td>type               </td><td>0.0840021764</td></tr>\n",
       "\t<tr><th scope=row>10</th><td>dias               </td><td>0.0704488419</td></tr>\n",
       "\t<tr><th scope=row>14</th><td>hospedes           </td><td>0.0290129466</td></tr>\n",
       "\t<tr><th scope=row>6</th><td>quarto             </td><td>0.0217272290</td></tr>\n",
       "\t<tr><th scope=row>9</th><td>semana             </td><td>0.0215700354</td></tr>\n",
       "\t<tr><th scope=row>11</th><td>flag_semana        </td><td>0.0195726672</td></tr>\n",
       "\t<tr><th scope=row>7</th><td>estacionamento     </td><td>0.0102720303</td></tr>\n",
       "\t<tr><th scope=row>18</th><td>preco              </td><td>0.0093460586</td></tr>\n",
       "\t<tr><th scope=row>2</th><td>breakfast          </td><td>0.0007044185</td></tr>\n",
       "\t<tr><th scope=row>12</th><td>flag_fds           </td><td>0.0003208978</td></tr>\n",
       "</tbody>\n",
       "</table>\n"
      ],
      "text/latex": [
       "A data.frame: 18 × 2\n",
       "\\begin{tabular}{r|ll}\n",
       "  & Variable & IV\\\\\n",
       "  & <chr> & <dbl>\\\\\n",
       "\\hline\n",
       "\t3 & pais                & 0.5321907972\\\\\n",
       "\t13 & antecendencia       & 0.4867053450\\\\\n",
       "\t15 & cancelamento\\_previo & 0.3901534997\\\\\n",
       "\t4 & segmento            & 0.3255657872\\\\\n",
       "\t8 & solicitacoes        & 0.3232654928\\\\\n",
       "\t17 & alteracoes          & 0.1804156293\\\\\n",
       "\t5 & canal               & 0.1550866591\\\\\n",
       "\t16 & estadia\\_previa      & 0.0962813230\\\\\n",
       "\t1 & type                & 0.0840021764\\\\\n",
       "\t10 & dias                & 0.0704488419\\\\\n",
       "\t14 & hospedes            & 0.0290129466\\\\\n",
       "\t6 & quarto              & 0.0217272290\\\\\n",
       "\t9 & semana              & 0.0215700354\\\\\n",
       "\t11 & flag\\_semana         & 0.0195726672\\\\\n",
       "\t7 & estacionamento      & 0.0102720303\\\\\n",
       "\t18 & preco               & 0.0093460586\\\\\n",
       "\t2 & breakfast           & 0.0007044185\\\\\n",
       "\t12 & flag\\_fds            & 0.0003208978\\\\\n",
       "\\end{tabular}\n"
      ],
      "text/markdown": [
       "\n",
       "A data.frame: 18 × 2\n",
       "\n",
       "| <!--/--> | Variable &lt;chr&gt; | IV &lt;dbl&gt; |\n",
       "|---|---|---|\n",
       "| 3 | pais                | 0.5321907972 |\n",
       "| 13 | antecendencia       | 0.4867053450 |\n",
       "| 15 | cancelamento_previo | 0.3901534997 |\n",
       "| 4 | segmento            | 0.3255657872 |\n",
       "| 8 | solicitacoes        | 0.3232654928 |\n",
       "| 17 | alteracoes          | 0.1804156293 |\n",
       "| 5 | canal               | 0.1550866591 |\n",
       "| 16 | estadia_previa      | 0.0962813230 |\n",
       "| 1 | type                | 0.0840021764 |\n",
       "| 10 | dias                | 0.0704488419 |\n",
       "| 14 | hospedes            | 0.0290129466 |\n",
       "| 6 | quarto              | 0.0217272290 |\n",
       "| 9 | semana              | 0.0215700354 |\n",
       "| 11 | flag_semana         | 0.0195726672 |\n",
       "| 7 | estacionamento      | 0.0102720303 |\n",
       "| 18 | preco               | 0.0093460586 |\n",
       "| 2 | breakfast           | 0.0007044185 |\n",
       "| 12 | flag_fds            | 0.0003208978 |\n",
       "\n"
      ],
      "text/plain": [
       "   Variable            IV          \n",
       "3  pais                0.5321907972\n",
       "13 antecendencia       0.4867053450\n",
       "15 cancelamento_previo 0.3901534997\n",
       "4  segmento            0.3255657872\n",
       "8  solicitacoes        0.3232654928\n",
       "17 alteracoes          0.1804156293\n",
       "5  canal               0.1550866591\n",
       "16 estadia_previa      0.0962813230\n",
       "1  type                0.0840021764\n",
       "10 dias                0.0704488419\n",
       "14 hospedes            0.0290129466\n",
       "6  quarto              0.0217272290\n",
       "9  semana              0.0215700354\n",
       "11 flag_semana         0.0195726672\n",
       "7  estacionamento      0.0102720303\n",
       "18 preco               0.0093460586\n",
       "2  breakfast           0.0007044185\n",
       "12 flag_fds            0.0003208978"
      ]
     },
     "metadata": {},
     "output_type": "display_data"
    }
   ],
   "source": [
    "IV <- create_infotables(data = base, y = 'cancellation')\n",
    "IV$Summary"
   ]
  },
  {
   "cell_type": "markdown",
   "id": "b3bc07f9",
   "metadata": {},
   "source": [
    "__Resultados - Information Value__\n",
    "   - O IV indica que se faça uma melhor verificação na variável País. Como não há um padrão bem definido e problemas com a volumetria SEM INFO, deixarei a variável fora do modelo;\n",
    "   - As variáveis com IV menor que 0,02 também deixei de fora visto que não devem exercer uma influência considerável no cancelamento, como já era esperado a partir das análises bivariadas."
   ]
  },
  {
   "cell_type": "code",
   "execution_count": 99,
   "id": "97a7b2c9",
   "metadata": {},
   "outputs": [
    {
     "name": "stdout",
     "output_type": "stream",
     "text": [
      "[1] \"Verificando a média de cancelamento da base de dados. Esse valor será utilizado como sugestão inicial de ponto de corte para classificação no modelo final.\"\n"
     ]
    },
    {
     "data": {
      "text/plain": [
       "\n",
       "    0     1 \n",
       "0.629 0.371 "
      ]
     },
     "metadata": {},
     "output_type": "display_data"
    }
   ],
   "source": [
    "print('Verificando a média de cancelamento da base de dados. Esse valor será utilizado como sugestão inicial de ponto de corte para classificação no modelo final.')\n",
    "table(base$cancellation) %>% prop.table() %>% round(3)"
   ]
  },
  {
   "cell_type": "markdown",
   "id": "8c57ed77",
   "metadata": {},
   "source": [
    "__Separação da Base para criação do modelo__\n",
    " - A base será dividida aleatoriamente para treino e teste nas proporções de 70% e 30% respectivamente."
   ]
  },
  {
   "cell_type": "code",
   "execution_count": 91,
   "id": "fece74c8",
   "metadata": {},
   "outputs": [],
   "source": [
    "#Semente de aleatoriedade definida\n",
    "set.seed(220313)\n",
    "amostra <- sample(1:nrow(base),nrow(base)*0.7) \n",
    "base$id <- row.names(base)\n",
    "base_treino <- base[base$id %in% amostra,] \n",
    "base_teste <- base[!base$id %in% amostra,]"
   ]
  },
  {
   "cell_type": "markdown",
   "id": "0323338e",
   "metadata": {},
   "source": [
    "  __Treinamento do modelo de classificação: Regressão Logística__\n",
    "  \n",
    "   - O primeiro modelo testado incluia todas as variáveis com IV > 0,2 e, após testes, foram retiradas algumas variáveis com as seguintes justificativas:\n",
    "       - A variável que indica a quantidade de noites da reserva foi retirada por não apresentar resultado significativo para o modelo (p-valor = 0,2543);\n",
    "       - A variável segmento também foi retirada do modelo por apresentar um segmento não significativo a 95% de confiança (p-valor = 0,0514) e possivelmente ter uma relação com o canal que prejudica a interpretação do modelo;\n",
    "       - A variável estadia prévia foi retirada por apresentar relação com cancelamento prévio e já trazer uma carga de incerteza pela baixa volumetria verificada na análise bivariada;\n",
    "       - A variável canal foi retirada por apresentar um resultado não significativo para o modelo, com p-valor = 0,987. \n",
    "   - Deixarei o código para criação do modelo final após os testes."
   ]
  },
  {
   "cell_type": "code",
   "execution_count": 96,
   "id": "47f7320c",
   "metadata": {},
   "outputs": [
    {
     "data": {
      "text/plain": [
       "\n",
       "Call:\n",
       "glm(formula = cancellation ~ antecendencia + cancelamento_previo + \n",
       "    solicitacoes + alteracoes + type + hospedes, family = binomial(link = logit), \n",
       "    data = base_treino[, -c(\"pais\", \"breakfast\", \"flag_fds\", \n",
       "        \"flag_semana\", \"estacionamento\", \"semana\", \"quarto\")])\n",
       "\n",
       "Deviance Residuals: \n",
       "    Min       1Q   Median       3Q      Max  \n",
       "-2.5688  -0.8228  -0.4503   0.9497   3.1858  \n",
       "\n",
       "Coefficients:\n",
       "                             Estimate Std. Error z value            Pr(>|z|)\n",
       "(Intercept)                  -2.61218    0.05183  -50.40 <0.0000000000000002\n",
       "antecendenciaDE 02 A 08 DIAS  0.61661    0.06076   10.15 <0.0000000000000002\n",
       "antecendenciaDE 09 A 30 DIAS  1.77957    0.05297   33.59 <0.0000000000000002\n",
       "antecendenciaDE 31 A 60 DIAS  2.13421    0.05279   40.43 <0.0000000000000002\n",
       "antecendenciaMAIS DE 60 DIAS  2.49689    0.04981   50.13 <0.0000000000000002\n",
       "cancelamento_previo1          2.99202    0.06284   47.61 <0.0000000000000002\n",
       "solicitacoes1 OU 2           -1.17912    0.01776  -66.38 <0.0000000000000002\n",
       "solicitacoes3 OU MAIS        -1.60543    0.06362  -25.23 <0.0000000000000002\n",
       "alteracoes1                  -1.23608    0.02763  -44.73 <0.0000000000000002\n",
       "typeHotel                     0.38517    0.01800   21.40 <0.0000000000000002\n",
       "hospedesMAIS DE 1 HÓSPEDE     0.29267    0.02341   12.50 <0.0000000000000002\n",
       "                                \n",
       "(Intercept)                  ***\n",
       "antecendenciaDE 02 A 08 DIAS ***\n",
       "antecendenciaDE 09 A 30 DIAS ***\n",
       "antecendenciaDE 31 A 60 DIAS ***\n",
       "antecendenciaMAIS DE 60 DIAS ***\n",
       "cancelamento_previo1         ***\n",
       "solicitacoes1 OU 2           ***\n",
       "solicitacoes3 OU MAIS        ***\n",
       "alteracoes1                  ***\n",
       "typeHotel                    ***\n",
       "hospedesMAIS DE 1 HÓSPEDE    ***\n",
       "---\n",
       "Signif. codes:  0 '***' 0.001 '**' 0.01 '*' 0.05 '.' 0.1 ' ' 1\n",
       "\n",
       "(Dispersion parameter for binomial family taken to be 1)\n",
       "\n",
       "    Null deviance: 110043  on 83432  degrees of freedom\n",
       "Residual deviance:  87455  on 83422  degrees of freedom\n",
       "  (4 observations deleted due to missingness)\n",
       "AIC: 87477\n",
       "\n",
       "Number of Fisher Scoring iterations: 5\n"
      ]
     },
     "metadata": {},
     "output_type": "display_data"
    }
   ],
   "source": [
    "modelo <- glm(cancellation ~ antecendencia+\n",
    "                              cancelamento_previo+\n",
    "                              #segmento+\n",
    "                              solicitacoes+\n",
    "                              alteracoes+\n",
    "                              #dias+\n",
    "                              #canal+\n",
    "                              #estadia_previa+\n",
    "                              type+\n",
    "                              hospedes,\n",
    "                base_treino[,-c('pais','breakfast','flag_fds','flag_semana','estacionamento','semana','quarto')],\n",
    "               family = binomial(link = logit))\n",
    "summary(modelo)"
   ]
  },
  {
   "cell_type": "markdown",
   "id": "31e19556",
   "metadata": {},
   "source": [
    "__Resumo de resultados do modelo:__\n",
    "\n",
    "   - __Antecedência:__ quanto maior a antecedência que a reserva foi realizada, maior a chance de cancelamento;\n",
    "   - __Cancelamento prévio:__ reservas de clientes que já cancelaram reservas têm chances bem maiores de serem canceladas;\n",
    "   - __Segmentos:__ variável retirada do modelo;\n",
    "   - __Solicitações:__ reservas que possuem solicitações a mais têm menos chance de cancelamento, sendo que 3 ou mais solicitações diminuem ainda mais essa probabilidade;\n",
    "   - __Alterações:__ reservas com alterações também têm menos chance de cancelamento;\n",
    "   - __Dias da reserva:__ variável retirada do modelo;\n",
    "   - __Canal de distribuição:__ variável retirada do modelo;\n",
    "   - __Tipo de hotel:__ reservas de hotéis \"comuns\" têm mais chance de ser canceladas.\n",
    "   - __Estadia prévia:__ variável retirada do modelo;\n",
    "   - __Quantidade de hóspedes:__ reservas com mais de 1 hóspede são mais propensas ao cancelamento."
   ]
  },
  {
   "cell_type": "markdown",
   "id": "c40cef50",
   "metadata": {},
   "source": [
    "__Avaliação dos resultados do modelo__\n",
    "\n",
    "   - __VIF (Fator de Inflação da Variância):__ essa métrica será utilizada para avaliar a existência de multicolinearidade no modelo. Bons resultados nessa avaliação afastam o risco de estarmos trabalhando com variáveis de alta correlação entre si.\n",
    "       - Em geral, os valores do VIF não devem ultrapassar 5. Chegando perto, é necessária uma melhor averiguação."
   ]
  },
  {
   "cell_type": "code",
   "execution_count": 98,
   "id": "e728d1a0",
   "metadata": {},
   "outputs": [
    {
     "data": {
      "text/html": [
       "<table class=\"dataframe\">\n",
       "<caption>A matrix: 6 × 3 of type dbl</caption>\n",
       "<thead>\n",
       "\t<tr><th></th><th scope=col>GVIF</th><th scope=col>Df</th><th scope=col>GVIF^(1/(2*Df))</th></tr>\n",
       "</thead>\n",
       "<tbody>\n",
       "\t<tr><th scope=row>antecendencia</th><td>1.067102</td><td>4</td><td>1.008151</td></tr>\n",
       "\t<tr><th scope=row>cancelamento_previo</th><td>1.021196</td><td>1</td><td>1.010542</td></tr>\n",
       "\t<tr><th scope=row>solicitacoes</th><td>1.035019</td><td>2</td><td>1.008642</td></tr>\n",
       "\t<tr><th scope=row>alteracoes</th><td>1.026735</td><td>1</td><td>1.013279</td></tr>\n",
       "\t<tr><th scope=row>type</th><td>1.012351</td><td>1</td><td>1.006157</td></tr>\n",
       "\t<tr><th scope=row>hospedes</th><td>1.098875</td><td>1</td><td>1.048272</td></tr>\n",
       "</tbody>\n",
       "</table>\n"
      ],
      "text/latex": [
       "A matrix: 6 × 3 of type dbl\n",
       "\\begin{tabular}{r|lll}\n",
       "  & GVIF & Df & GVIF\\textasciicircum{}(1/(2*Df))\\\\\n",
       "\\hline\n",
       "\tantecendencia & 1.067102 & 4 & 1.008151\\\\\n",
       "\tcancelamento\\_previo & 1.021196 & 1 & 1.010542\\\\\n",
       "\tsolicitacoes & 1.035019 & 2 & 1.008642\\\\\n",
       "\talteracoes & 1.026735 & 1 & 1.013279\\\\\n",
       "\ttype & 1.012351 & 1 & 1.006157\\\\\n",
       "\thospedes & 1.098875 & 1 & 1.048272\\\\\n",
       "\\end{tabular}\n"
      ],
      "text/markdown": [
       "\n",
       "A matrix: 6 × 3 of type dbl\n",
       "\n",
       "| <!--/--> | GVIF | Df | GVIF^(1/(2*Df)) |\n",
       "|---|---|---|---|\n",
       "| antecendencia | 1.067102 | 4 | 1.008151 |\n",
       "| cancelamento_previo | 1.021196 | 1 | 1.010542 |\n",
       "| solicitacoes | 1.035019 | 2 | 1.008642 |\n",
       "| alteracoes | 1.026735 | 1 | 1.013279 |\n",
       "| type | 1.012351 | 1 | 1.006157 |\n",
       "| hospedes | 1.098875 | 1 | 1.048272 |\n",
       "\n"
      ],
      "text/plain": [
       "                    GVIF     Df GVIF^(1/(2*Df))\n",
       "antecendencia       1.067102 4  1.008151       \n",
       "cancelamento_previo 1.021196 1  1.010542       \n",
       "solicitacoes        1.035019 2  1.008642       \n",
       "alteracoes          1.026735 1  1.013279       \n",
       "type                1.012351 1  1.006157       \n",
       "hospedes            1.098875 1  1.048272       "
      ]
     },
     "metadata": {},
     "output_type": "display_data"
    },
    {
     "name": "stdout",
     "output_type": "stream",
     "text": [
      "[1] \"Os resultados próximos a 1 para todas as variáveis afastam o risco de multicolinearidade\"\n"
     ]
    }
   ],
   "source": [
    "vif(modelo)\n",
    "print('Os resultados próximos a 1 para todas as variáveis afastam o risco de multicolinearidade')"
   ]
  },
  {
   "cell_type": "markdown",
   "id": "df29fde4",
   "metadata": {},
   "source": [
    "__Ponto de corte e Classificação__\n",
    "\n",
    "   - O ponto de corte inicial para classificação foi a média de cancelamentos da base (0,371);\n",
    "   - Após avaliações, buscando um melhor ajuste de resultados, foi definido como ponto de corte final o valor de 0,368."
   ]
  },
  {
   "cell_type": "code",
   "execution_count": 101,
   "id": "f0b8994a",
   "metadata": {},
   "outputs": [],
   "source": [
    "base_treino$prob = predict(modelo,base_treino, type = \"response\")\n",
    "base_teste$prob = predict(modelo,base_teste, type = \"response\")\n",
    "base_treino$predito <- ifelse(base_treino$prob > 0.368,1,0)\n",
    "base_teste$predito <- ifelse(base_teste$prob > 0.368,1,0)"
   ]
  },
  {
   "cell_type": "markdown",
   "id": "3fb13faa",
   "metadata": {},
   "source": [
    "__Métricas de Avaliação do Modelo__\n",
    "\n",
    "   - Base de Treino:\n",
    "       \n",
    "       - __Acurácia:__ 73% (Acerto geral)\n",
    "       - __Sensibilidade:__ 74% (Acerto de cancelamentos)\n",
    "       - __Especificidade:__ 71% (Acertos de não-cancelamentos)\n",
    "       - __KS:__ 46%\n",
    "       - __AUC(ROC):__ 78%\n",
    "    \n",
    "   - Base de Teste:\n",
    "       \n",
    "       - __Acurácia:__ 72%\n",
    "       - __Sensibilidade:__ 74%\n",
    "       - __Especificidade:__ 70%\n",
    "       - __KS:__ 45%\n",
    "       - __AUC(ROC):__ 78%\n",
    "       \n",
    "       \n",
    "   - Além disso, podemos destacar o __Índice de Estabilidade da População (PSI) = 0,0003678624__ que nos indica um bom ajuste das variáveis explicativas do modelo, não havendo alterações entre as bases de treino e teste.     \n",
    "       \n",
    "Deixo os resultados 'ilustrados' abaixo para visualização"
   ]
  },
  {
   "cell_type": "code",
   "execution_count": 105,
   "id": "7906a1a3",
   "metadata": {},
   "outputs": [
    {
     "name": "stdout",
     "output_type": "stream",
     "text": [
      "[1] \"KS da base de treino:\"\n"
     ]
    },
    {
     "data": {
      "text/html": [
       "0.4571"
      ],
      "text/latex": [
       "0.4571"
      ],
      "text/markdown": [
       "0.4571"
      ],
      "text/plain": [
       "[1] 0.4571"
      ]
     },
     "metadata": {},
     "output_type": "display_data"
    },
    {
     "name": "stdout",
     "output_type": "stream",
     "text": [
      "[1] \"KS da base de teste:\"\n"
     ]
    },
    {
     "data": {
      "text/html": [
       "0.4516"
      ],
      "text/latex": [
       "0.4516"
      ],
      "text/markdown": [
       "0.4516"
      ],
      "text/plain": [
       "[1] 0.4516"
      ]
     },
     "metadata": {},
     "output_type": "display_data"
    },
    {
     "name": "stdout",
     "output_type": "stream",
     "text": [
      "[1] \"Curva ROC da base de treino\"\n",
      "[1] \"Curva ROC da base de teste\"\n"
     ]
    },
    {
     "data": {
      "image/png": "[encoded data removed]",
      "text/plain": [
       "plot without title"
      ]
     },
     "metadata": {
      "image/png": {
       "height": 420,
       "width": 420
      }
     },
     "output_type": "display_data"
    },
    {
     "data": {
      "image/png": "[encoded data removed]",
      "text/plain": [
       "plot without title"
      ]
     },
     "metadata": {
      "image/png": {
       "height": 420,
       "width": 420
      }
     },
     "output_type": "display_data"
    }
   ],
   "source": [
    "print('KS da base de treino:')\n",
    "ks_stat(actuals=base_treino$cancellation, predictedScores=base_treino$prob)\n",
    "print('KS da base de teste:')\n",
    "ks_stat(actuals=base_teste$cancellation, predictedScores=base_teste$prob)\n",
    "print('Curva ROC da base de treino')\n",
    "plotROC(actuals=base_treino$cancellation, predictedScores=base_treino$prob)\n",
    "print('Curva ROC da base de teste')\n",
    "plotROC(actuals=base_teste$cancellation, predictedScores=base_teste$prob)\n"
   ]
  },
  {
   "cell_type": "code",
   "execution_count": 107,
   "id": "56a33fcb",
   "metadata": {},
   "outputs": [
    {
     "name": "stdout",
     "output_type": "stream",
     "text": [
      "[1] \"Métricas de avaliação da base de treino:\"\n"
     ]
    },
    {
     "data": {
      "text/plain": [
       "Confusion Matrix and Statistics\n",
       "\n",
       "          Reference\n",
       "Prediction     0     1\n",
       "         0 38832  9124\n",
       "         1 13650 21827\n",
       "                                               \n",
       "               Accuracy : 0.727                \n",
       "                 95% CI : (0.724, 0.7301)      \n",
       "    No Information Rate : 0.629                \n",
       "    P-Value [Acc > NIR] : < 0.00000000000000022\n",
       "                                               \n",
       "                  Kappa : 0.4322               \n",
       "                                               \n",
       " Mcnemar's Test P-Value : < 0.00000000000000022\n",
       "                                               \n",
       "            Sensitivity : 0.7052               \n",
       "            Specificity : 0.7399               \n",
       "         Pos Pred Value : 0.6152               \n",
       "         Neg Pred Value : 0.8097               \n",
       "             Prevalence : 0.3710               \n",
       "         Detection Rate : 0.2616               \n",
       "   Detection Prevalence : 0.4252               \n",
       "      Balanced Accuracy : 0.7226               \n",
       "                                               \n",
       "       'Positive' Class : 1                    \n",
       "                                               "
      ]
     },
     "metadata": {},
     "output_type": "display_data"
    },
    {
     "name": "stdout",
     "output_type": "stream",
     "text": [
      "[1] \"Métricas de avaliação da base de teste:\"\n"
     ]
    },
    {
     "data": {
      "text/plain": [
       "Confusion Matrix and Statistics\n",
       "\n",
       "          Reference\n",
       "Prediction     0     1\n",
       "         0 16571  3939\n",
       "         1  5958  9292\n",
       "                                               \n",
       "               Accuracy : 0.7232               \n",
       "                 95% CI : (0.7186, 0.7279)     \n",
       "    No Information Rate : 0.63                 \n",
       "    P-Value [Acc > NIR] : < 0.00000000000000022\n",
       "                                               \n",
       "                  Kappa : 0.4245               \n",
       "                                               \n",
       " Mcnemar's Test P-Value : < 0.00000000000000022\n",
       "                                               \n",
       "            Sensitivity : 0.7023               \n",
       "            Specificity : 0.7355               \n",
       "         Pos Pred Value : 0.6093               \n",
       "         Neg Pred Value : 0.8079               \n",
       "             Prevalence : 0.3700               \n",
       "         Detection Rate : 0.2598               \n",
       "   Detection Prevalence : 0.4265               \n",
       "      Balanced Accuracy : 0.7189               \n",
       "                                               \n",
       "       'Positive' Class : 1                    \n",
       "                                               "
      ]
     },
     "metadata": {},
     "output_type": "display_data"
    }
   ],
   "source": [
    "print('Métricas de avaliação da base de treino:')\n",
    "confusionMatrix(as.factor(base_treino$predito),as.factor(base_treino$cancellation),positive='1')\n",
    "print('Métricas de avaliação da base de teste:')\n",
    "confusionMatrix(as.factor(base_teste$predito),as.factor(base_teste$cancellation),positive='1')"
   ]
  },
  {
   "cell_type": "code",
   "execution_count": 109,
   "id": "9af5607e",
   "metadata": {},
   "outputs": [
    {
     "data": {
      "text/plain": [
       "$pic\n",
       "$pic$pred\n",
       "\n",
       "\n",
       "$psi\n",
       "   variable      dataset          psi\n",
       "1:     pred treino_teste 0.0003678624\n"
      ]
     },
     "metadata": {},
     "output_type": "display_data"
    },
    {
     "data": {
      "image/png": "[encoded data removed]",
      "text/plain": [
       "plot without title"
      ]
     },
     "metadata": {
      "image/png": {
       "height": 420,
       "width": 420
      }
     },
     "output_type": "display_data"
    }
   ],
   "source": [
    "perf_psi(score = list(treino = base_treino$prob, teste = base_teste$prob))"
   ]
  },
  {
   "cell_type": "markdown",
   "id": "01cbcc08",
   "metadata": {},
   "source": [
    "__Cross Validation x Validação Out-of-time__\n",
    "\n",
    "   - Nesta base específicamente, a validação out-of-time utilizando 2015 e 2016 para prever 2017 não deve apresentar um bom resultado. Explico:\n",
    "       - Apesar de termos dados temporais, que nos permitem trabalhar com essa validação, temos divergências entre as periodiciades dos anos;\n",
    "       - Em 2016 temos dados completos, de janeiro a dezembro. Porém, enquanto em 2015 não temos dados do início do ano (os dados disponíveis trazem reservas realizadas a partir de Julho), o ano de 2017 não apresenta os dados de reservas do final do ano (os dados disponíveis acabam no mês de Agosto).\n",
    "       - A divergência de períodos pode trazer problemas causados por características de sazonalidade nos padrões de cancelamento, fazendo com que os resultados acabem não refletindo bem a realidade, diminuindo a acurácia do modelo.\n",
    "    \n",
    "   - O cross validation, que consiste em um conjunto de hold out validantion, não traz esse problema das questões temporais, dado que todas as observações passarão pelo menos uma vez pela parte de validação aleatoriamente. Com isso, esse método é mais eficiente em eliminar possíveis problemas de overfitting enquanto o out-of-time é mais eficiente em identificar mudanças de comportamento ao longo do tempo."
   ]
  },
  {
   "cell_type": "markdown",
   "id": "8eb8122a",
   "metadata": {},
   "source": [
    "__Resultados - Cross Validation__\n",
    "\n",
    "  - Realizando um Cross-validation pelo método k-fold temos os seguintes resultados:\n",
    "\n",
    "       - __K=5 com 5 repetições__\n",
    "       - Acurácia: 74%\n",
    "       \n",
    "       - __K=10 com 3 repetições__\n",
    "       - Acurácia: 74%\n",
    "       \n",
    "       \n",
    "   - Os resultados ratificam a precisão encontrada na validação treino/teste simples, eliminando hipóteses de overfitting e nos dando ainda mais garantia para a qualidade do modelo.\n",
    "       \n",
    "  Deixo os resultados 'ilustrados' abaixo para visualização:"
   ]
  },
  {
   "cell_type": "code",
   "execution_count": 112,
   "id": "6b50fb9b",
   "metadata": {},
   "outputs": [
    {
     "name": "stdout",
     "output_type": "stream",
     "text": [
      "[1] \"Cross validation, K-fold com K=5 e 5 repetições\"\n"
     ]
    },
    {
     "data": {
      "text/plain": [
       "Generalized Linear Model \n",
       "\n",
       "119197 samples\n",
       "     6 predictor\n",
       "     2 classes: '0', '1' \n",
       "\n",
       "Pre-processing: scaled (10) \n",
       "Resampling: Cross-Validated (5 fold, repeated 5 times) \n",
       "Summary of sample sizes: 95353, 95355, 95354, 95355, 95355, 95354, ... \n",
       "Resampling results:\n",
       "\n",
       "  Accuracy   Kappa    \n",
       "  0.7409697  0.4344176\n"
      ]
     },
     "metadata": {},
     "output_type": "display_data"
    },
    {
     "name": "stdout",
     "output_type": "stream",
     "text": [
      "[1] \"Cross validation, K-fold com K=10 e 3 repetições\"\n"
     ]
    },
    {
     "data": {
      "text/plain": [
       "Generalized Linear Model \n",
       "\n",
       "119197 samples\n",
       "     6 predictor\n",
       "     2 classes: '0', '1' \n",
       "\n",
       "Pre-processing: scaled (10) \n",
       "Resampling: Cross-Validated (10 fold, repeated 3 times) \n",
       "Summary of sample sizes: 107273, 107274, 107273, 107274, 107274, 107274, ... \n",
       "Resampling results:\n",
       "\n",
       "  Accuracy   Kappa    \n",
       "  0.7409887  0.4344706\n"
      ]
     },
     "metadata": {},
     "output_type": "display_data"
    }
   ],
   "source": [
    "print('Cross validation, K-fold com K=5 e 5 repetições')\n",
    "fitControl <- trainControl(## 5-fold CV\n",
    "  method = \"repeatedcv\",\n",
    "  number = 5,\n",
    "  ## 5 repetições\n",
    "  repeats = 5)\n",
    "\n",
    "set.seed(220313)\n",
    "md1 <- train(as.factor(cancellation) ~ antecendencia+\n",
    "                                       cancelamento_previo+\n",
    "                                       alteracoes+\n",
    "                                       solicitacoes+\n",
    "                                       type+\n",
    "                                       hospedes, data = base, \n",
    "                method = \"glm\",preProcess = c(\"scale\"), family=\"binomial\", \n",
    "                trControl = fitControl,\n",
    "             na.action=na.exclude)\n",
    "md1\n",
    "\n",
    "print('Cross validation, K-fold com K=10 e 3 repetições')\n",
    "\n",
    "fitControl <- trainControl(## 5-fold CV\n",
    "  method = \"repeatedcv\",\n",
    "  number = 10,\n",
    "  ## 3 repetições\n",
    "  repeats = 3)\n",
    "\n",
    "set.seed(220313)\n",
    "md2 <- train(as.factor(cancellation) ~ antecendencia+\n",
    "                                       cancelamento_previo+\n",
    "                                       alteracoes+\n",
    "                                       solicitacoes+\n",
    "                                       type+\n",
    "                                       hospedes, data = base, \n",
    "                method = \"glm\",preProcess = c(\"scale\"), family=\"binomial\", \n",
    "                trControl = fitControl,\n",
    "             na.action=na.exclude)\n",
    "md2"
   ]
  },
  {
   "cell_type": "markdown",
   "id": "5d246149",
   "metadata": {},
   "source": [
    "__OBRIGADO!__"
   ]
  }
 ],
 "metadata": {
  "kernelspec": {
   "display_name": "R",
   "language": "R",
   "name": "ir"
  },
  "language_info": {
   "codemirror_mode": "r",
   "file_extension": ".r",
   "mimetype": "text/x-r-source",
   "name": "R",
   "pygments_lexer": "r",
   "version": "4.0.4"
  }
 },
 "nbformat": 4,
 "nbformat_minor": 5
}
